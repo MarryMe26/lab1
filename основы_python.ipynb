{
  "cells": [
    {
      "cell_type": "markdown",
      "metadata": {
        "id": "M-DGa20PaHnu"
      },
      "source": [
        "#Задача 1\n",
        "Написать функцию на вход которой подается строка, состоящая из латинских букв.\n",
        "Функция должна вернуть количество гласных букв (a, e, i, o, u) в этой строке. Написать тесты для кода"
      ]
    },
    {
      "cell_type": "code",
      "execution_count": 5,
      "metadata": {
        "id": "XvX8X_JJ6PCb"
      },
      "outputs": [
        {
          "data": {
            "text/plain": [
              "{'a': 2, 'e': 0, 'i': 0, 'o': 1, 'u': 0}"
            ]
          },
          "metadata": {},
          "output_type": "display_data"
        },
        {
          "data": {
            "text/plain": [
              "{'a': 0, 'e': 0, 'i': 0, 'o': 0, 'u': 0}"
            ]
          },
          "metadata": {},
          "output_type": "display_data"
        }
      ],
      "source": [
        "def count_letters(string: str, letters: list[str]) -> dict[str, int]:\n",
        "    res = dict()\n",
        "    for chr in letters:\n",
        "        res[chr] = string.count(chr)\n",
        "    return res\n",
        "\n",
        "def count_eng_letters(string: str) -> dict[str, int]:\n",
        "    return count_letters(string, ['a', 'e', 'i', 'o', 'u'])\n",
        "\n",
        "tst = count_eng_letters(\"aboba\")\n",
        "display(tst)\n",
        "assert tst['a'] == 2\n",
        "assert tst['o'] == 1\n",
        "\n",
        "tst = count_eng_letters(\"ttt\")\n",
        "display(tst)\n",
        "assert all(tst[letter] == 0 for letter in ['a', 'e', 'i', 'o', 'u'])"
      ]
    },
    {
      "cell_type": "markdown",
      "metadata": {
        "id": "t2ClV_Y0bbr6"
      },
      "source": [
        "# Задача 2\n",
        "Написать функцию на вход, которой подается строка. Функция должна вернуть true, если\n",
        "каждый символ в строке встречается только 1 раз, иначе должна вернуть false. Написать тесты для кода"
      ]
    },
    {
      "cell_type": "code",
      "execution_count": 7,
      "metadata": {
        "id": "FppbECao6VIz"
      },
      "outputs": [],
      "source": [
        "# Your code goes here\n",
        "def is_unique_letters(string: str) -> bool:\n",
        "    return len(set(string)) == len(string)\n",
        "\n",
        "assert is_unique_letters(\"abc\")\n",
        "assert not is_unique_letters('aaa')\n"
      ]
    },
    {
      "cell_type": "markdown",
      "metadata": {
        "id": "udRiIK1cdt6E"
      },
      "source": [
        "# Задача 3\n",
        "Написать функцию, которая принимает положительное число и возвращает количество\n",
        "бит равных 1 в этом числе. Написать тесты для кода"
      ]
    },
    {
      "cell_type": "code",
      "execution_count": 13,
      "metadata": {
        "id": "6tkfDJRz6dp_"
      },
      "outputs": [],
      "source": [
        "# Your code goes here\n",
        "def count_one_bits(num: int) -> int:\n",
        "    return bin(num)[2:].count('1')\n",
        "\n",
        "assert count_one_bits(0) == 0\n",
        "assert count_one_bits(1) == 1\n",
        "assert count_one_bits(2) == 1\n",
        "assert count_one_bits(3) == 2\n",
        "assert count_one_bits(4) == 1"
      ]
    },
    {
      "cell_type": "markdown",
      "metadata": {
        "id": "26dDUz-Ae17N"
      },
      "source": [
        "# Задача 4\n",
        "Написать функцию, которая принимает положительное число. Функция должна вернуть то,\n",
        "сколько раз необходимо перемножать цифры числа или результат перемножения, чтобы\n",
        "получилось число состоящее из одной цифры.\n",
        "Например, для входного числа:\n",
        "· 39 функция должна вернуть 3, так как 3*9=27 => 2*7=14 => 1*4=4\n",
        "· 4 функция должна вернуть 0, так как число уже состоит из одной цифры\n",
        "· 999 функция должна вернуть 4, так как 9*9*9=729 => 7*2*9=126 => 1*2*6=12 =>\n",
        "1*2=2. Написать тесты для кода"
      ]
    },
    {
      "cell_type": "code",
      "execution_count": 16,
      "metadata": {
        "id": "BH1A_Mgi6i4G"
      },
      "outputs": [],
      "source": [
        "def mul_numbers(num):\n",
        "    res = 1\n",
        "    for i in str(num):\n",
        "        i = int(i)\n",
        "        res *= i\n",
        "    return res\n",
        "\n",
        "def magic(n):\n",
        "    # Your code goes here\n",
        "    res = 0\n",
        "    while len(str(n)) != 1:\n",
        "        n = mul_numbers(n)\n",
        "        res += 1\n",
        "    return res\n",
        "\n",
        "assert magic(39) == 3\n",
        "assert magic(4) == 0\n",
        "assert magic(999) == 4"
      ]
    },
    {
      "cell_type": "markdown",
      "metadata": {
        "id": "0nS-kIa8g8vd"
      },
      "source": [
        "# Задача 5\n",
        "Написать функцию, которая принимает два целочисленных вектора одинаковой длины и\n",
        "возвращает среднеквадратическое отклонение двух векторов. Написать тесты для кода"
      ]
    },
    {
      "cell_type": "code",
      "execution_count": 23,
      "metadata": {
        "id": "8iphx4LM6xbx"
      },
      "outputs": [],
      "source": [
        "import itertools\n",
        "\n",
        "def mse(v1: list[int], v2: list[int]) -> float:\n",
        "    # Your code goes here\n",
        "    res = sum((a - b) ** 2 for a, b in zip(v1, v2)) / len(v1)\n",
        "    return res ** 0.5\n",
        "\n",
        "assert mse([1,1,1], [2,2,2]) == 1\n",
        "assert mse([1,2,3], [4,5,6]) - 3 < 0.01"
      ]
    },
    {
      "cell_type": "markdown",
      "metadata": {
        "id": "vpIPKL439zkw"
      },
      "source": [
        "# Задача 6\n",
        "Написать функцию, принимающая целое положительное число. Функция должна вернуть\n",
        "строку вида “(n1**p1)(n2**p2)…(nk**pk)” представляющая разложение числа на простые\n",
        "множители (если pi == 1, то выводить только ni).\n",
        "Например, для числа 86240 функция должна вернуть “(2**5)(5)(7**2)(11)”. Написать тесты для кода"
      ]
    },
    {
      "cell_type": "code",
      "execution_count": 24,
      "metadata": {
        "id": "pFebmcZk94Jw"
      },
      "outputs": [],
      "source": [
        "# Your code goes here\n",
        "\n",
        "def prime_factorization(n):\n",
        "    i = 2\n",
        "    factors = {}\n",
        "    while i * i <= n:\n",
        "        while (n % i) == 0:\n",
        "            if i in factors:\n",
        "                factors[i] += 1\n",
        "            else:\n",
        "                factors[i] = 1\n",
        "            n //= i\n",
        "        i += 1\n",
        "    if n > 1:\n",
        "        factors[n] = 1\n",
        "    \n",
        "    result = \"\"\n",
        "    for prime, power in sorted(factors.items()):\n",
        "        if power == 1:\n",
        "            result += f\"({prime})\"\n",
        "        else:\n",
        "            result += f\"({prime}**{power})\"\n",
        "    return result\n",
        "\n",
        "assert prime_factorization(86240) == '(2**5)(5)(7**2)(11)'\n"
      ]
    },
    {
      "cell_type": "markdown",
      "metadata": {
        "id": "ps2s0BudX7A2"
      },
      "source": [
        "# Задача 7\n",
        "Написать функцию, принимающая целое число n, задающее количество кубиков. Функция\n",
        "должна определить, можно ли из данного кол-ва кубиков построить пирамиду, то есть\n",
        "можно ли представить число n как 1^2+2^2+3^2+…+k^2. Если можно, то функция должна\n",
        "вернуть k, иначе строку “It is impossible”. Написать тесты для кода"
      ]
    },
    {
      "cell_type": "code",
      "execution_count": 28,
      "metadata": {
        "id": "3YPjEXxhX_YT"
      },
      "outputs": [],
      "source": [
        "def pyramid(number):\n",
        "    # Your code goes here\n",
        "    k = 0\n",
        "    total = 0\n",
        "    while total < number:\n",
        "        k += 1\n",
        "        total += k ** 2\n",
        "    if total == number:\n",
        "        return k\n",
        "    else:\n",
        "        return \"It is impossible\"\n",
        "\n",
        "\n",
        "assert pyramid(14) == 3"
      ]
    },
    {
      "cell_type": "markdown",
      "metadata": {
        "id": "KeKgmIdAQMEJ"
      },
      "source": [
        "# Задача 8\n",
        "Функция принимает на вход положительное число и определяет является ли оно сбалансированным, т.е. сумма цифр до средних равна сумме цифр после. Средними в случае нечетного числа цифр считать одну цифру, в случае четного - две средних. Написать тесты для кода"
      ]
    },
    {
      "cell_type": "code",
      "execution_count": 32,
      "metadata": {
        "id": "gMAAqtqlQrZt"
      },
      "outputs": [],
      "source": [
        "def is_balanced_number(n):\n",
        "    digits = []\n",
        "    for i in str(n):\n",
        "        digits.append(int(i))\n",
        "    length = len(digits)\n",
        "    mid = length // 2\n",
        "    \n",
        "    if length % 2 == 0:\n",
        "        left_sum = sum(digits[:mid-1])\n",
        "        right_sum = sum(digits[mid+1:])\n",
        "    else:\n",
        "        left_sum = sum(digits[:mid])\n",
        "        right_sum = sum(digits[mid+1:])\n",
        "    \n",
        "    return left_sum == right_sum\n",
        "\n",
        "assert is_balanced_number(11211)\n",
        "assert is_balanced_number(99035675)\n",
        "assert not is_balanced_number(1234567)"
      ]
    }
  ],
  "metadata": {
    "colab": {
      "provenance": []
    },
    "kernelspec": {
      "display_name": "Python 3",
      "name": "python3"
    },
    "language_info": {
      "codemirror_mode": {
        "name": "ipython",
        "version": 3
      },
      "file_extension": ".py",
      "mimetype": "text/x-python",
      "name": "python",
      "nbconvert_exporter": "python",
      "pygments_lexer": "ipython3",
      "version": "3.11.4"
    }
  },
  "nbformat": 4,
  "nbformat_minor": 0
}
